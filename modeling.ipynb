{
 "cells": [
  {
   "cell_type": "markdown",
   "id": "2a660af9-7466-4e28-8c93-9941eade2fba",
   "metadata": {},
   "source": [
    "Integrate Cluster Labels and Train Random Forest\n"
   ]
  },
  {
   "cell_type": "markdown",
   "id": "8f9c7054-1951-46bc-87b9-caa788bf36f1",
   "metadata": {},
   "source": [
    "1. Merge Cluster Labels into Dataset"
   ]
  },
  {
   "cell_type": "code",
   "execution_count": 11,
   "id": "1c4aba04-accc-4c25-afc7-29e063a5f2af",
   "metadata": {},
   "outputs": [],
   "source": [
    "import numpy as np\n",
    "import pandas as pd\n",
    "import matplotlib.pyplot as plt\n",
    "import seaborn as sns\n",
    "# Load dataset with cluster labels\n",
    "df = pd.read_csv('clustered_customers.csv')\n",
    "\n",
    "# Optional: One-hot encode Cluster for model use\n",
    "df = pd.get_dummies(df, columns=['Cluster'], prefix='Cluster')"
   ]
  },
  {
   "cell_type": "markdown",
   "id": "6e02dee9-4d65-4c3f-806e-2757159d768e",
   "metadata": {},
   "source": [
    "2. Define Features & Target"
   ]
  },
  {
   "cell_type": "code",
   "execution_count": 14,
   "id": "19afc8ac-c312-4702-9181-5b10f96e8214",
   "metadata": {},
   "outputs": [],
   "source": [
    "# Example: Define high spenders as target\n",
    "median_spend = df['Total_Spend'].median()\n",
    "df['High_Spender'] = (df['Total_Spend'] > median_spend).astype(int)\n",
    "\n",
    "# Define features (excluding Total_Spend and raw cluster label if needed)\n",
    "feature_cols = [col for col in df.columns if col not in ['Total_Spend', 'High_Spender', 'Income']]\n",
    "X = df[feature_cols]\n",
    "y = df['High_Spender']"
   ]
  },
  {
   "cell_type": "markdown",
   "id": "2b355ec2-d8c0-4a84-9ba7-bc592bc3d24c",
   "metadata": {},
   "source": [
    "3. Train-Test Split"
   ]
  },
  {
   "cell_type": "code",
   "execution_count": 17,
   "id": "0d7d42dd-5a62-4e68-867a-8dccffcb0b26",
   "metadata": {},
   "outputs": [],
   "source": [
    "from sklearn.model_selection import train_test_split\n",
    "\n",
    "X_train, X_test, y_train, y_test = train_test_split(\n",
    "    X, y, test_size=0.2, random_state=42, stratify=y)"
   ]
  },
  {
   "cell_type": "markdown",
   "id": "263996c1-dad0-438c-a01c-8cd7cdcd313c",
   "metadata": {},
   "source": [
    "4. Train Random Forest Classifier"
   ]
  },
  {
   "cell_type": "code",
   "execution_count": 22,
   "id": "c41cadb7-9b06-42e0-a00e-ff8664a4904a",
   "metadata": {},
   "outputs": [
    {
     "name": "stdout",
     "output_type": "stream",
     "text": [
      "Confusion Matrix:\n",
      " [[217   5]\n",
      " [  4 218]]\n",
      "\n",
      "Classification Report:\n",
      "               precision    recall  f1-score   support\n",
      "\n",
      "           0       0.98      0.98      0.98       222\n",
      "           1       0.98      0.98      0.98       222\n",
      "\n",
      "    accuracy                           0.98       444\n",
      "   macro avg       0.98      0.98      0.98       444\n",
      "weighted avg       0.98      0.98      0.98       444\n",
      "\n"
     ]
    }
   ],
   "source": [
    "# Step 4: Train Random Forest Classifier\n",
    "\n",
    "import pandas as pd\n",
    "import numpy as np\n",
    "from sklearn.model_selection import train_test_split\n",
    "from sklearn.ensemble import RandomForestClassifier\n",
    "from sklearn.metrics import classification_report, confusion_matrix\n",
    "\n",
    "# Load clustered dataset\n",
    "df = pd.read_csv('clustered_customers.csv')\n",
    "\n",
    "# Encode categorical variables into numeric (one-hot encoding)\n",
    "df_encoded = pd.get_dummies(df, drop_first=True)\n",
    "\n",
    "# Create binary target: High Spender (above median Total_Spend)\n",
    "median_spend = df_encoded['Total_Spend'].median()\n",
    "df_encoded['High_Spender'] = (df_encoded['Total_Spend'] > median_spend).astype(int)\n",
    "\n",
    "# Define features (exclude original Total_Spend and target)\n",
    "feature_cols = [col for col in df_encoded.columns if col not in ['Total_Spend', 'High_Spender']]\n",
    "X = df_encoded[feature_cols]\n",
    "y = df_encoded['High_Spender']\n",
    "\n",
    "# Train-test split\n",
    "X_train, X_test, y_train, y_test = train_test_split(\n",
    "    X, y, test_size=0.2, random_state=42, stratify=y)\n",
    "\n",
    "# Train Random Forest model\n",
    "rf = RandomForestClassifier(n_estimators=100, random_state=42)\n",
    "rf.fit(X_train, y_train)\n",
    "\n",
    "# Predict and evaluate\n",
    "y_pred = rf.predict(X_test)\n",
    "print(\"Confusion Matrix:\\n\", confusion_matrix(y_test, y_pred))\n",
    "print(\"\\nClassification Report:\\n\", classification_report(y_test, y_pred))\n"
   ]
  },
  {
   "cell_type": "code",
   "execution_count": null,
   "id": "81596866-b93d-4d86-91fc-3473a7381df5",
   "metadata": {},
   "outputs": [],
   "source": []
  }
 ],
 "metadata": {
  "kernelspec": {
   "display_name": "Python [conda env:base] *",
   "language": "python",
   "name": "conda-base-py"
  },
  "language_info": {
   "codemirror_mode": {
    "name": "ipython",
    "version": 3
   },
   "file_extension": ".py",
   "mimetype": "text/x-python",
   "name": "python",
   "nbconvert_exporter": "python",
   "pygments_lexer": "ipython3",
   "version": "3.12.7"
  }
 },
 "nbformat": 4,
 "nbformat_minor": 5
}
