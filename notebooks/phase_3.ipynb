{
 "cells": [
  {
   "cell_type": "markdown",
   "id": "d4dcb934",
   "metadata": {},
   "source": [
    "# Phase 3: Clustering & Segmentation"
   ]
  },
  {
   "cell_type": "code",
   "execution_count": null,
   "id": "625e6bbc",
   "metadata": {},
   "outputs": [],
   "source": [
    "import numpy as np\n",
    "import pandas as pd\n",
    "import matplotlib.pyplot as plt\n",
    "import seaborn as sns\n",
    "from sklearn.mixture import GaussianMixture\n",
    "from sklearn.cluster import KMeans\n",
    "from sklearn.metrics import silhouette_score, davies_bouldin_score\n",
    "from sklearn.manifold import TSNE\n",
    "import plotly.express as px"
   ]
  },
  {
   "cell_type": "code",
   "execution_count": null,
   "id": "e30bcf69",
   "metadata": {},
   "outputs": [],
   "source": [
    "# Load embeddings from Phase 2\n",
    "embeddings = np.load('customer_embeddings.npy')  # Shape: (n_samples, 10)"
   ]
  },
  {
   "cell_type": "markdown",
   "id": "f469defe",
   "metadata": {},
   "source": [
    "## Determine Optimal Clusters "
   ]
  },
  {
   "cell_type": "code",
   "execution_count": null,
   "id": "f14c75e5",
   "metadata": {},
   "outputs": [],
   "source": [
    "# Evaluate cluster range (3-6)\n",
    "cluster_range = range(3, 7)\n",
    "silhouette_scores = []\n",
    "db_scores = []\n",
    "\n",
    "for n_clusters in cluster_range:\n",
    "    # K-Means clustering\n",
    "    kmeans = KMeans(n_clusters=n_clusters, random_state=42)\n",
    "    labels = kmeans.fit_predict(embeddings)\n",
    "    \n",
    "    # Metrics\n",
    "    silhouette_scores.append(silhouette_score(embeddings, labels))\n",
    "    db_scores.append(davies_bouldin_score(embeddings, labels))\n",
    "\n",
    "# Plot metrics\n",
    "plt.figure(figsize=(12, 5))\n",
    "plt.subplot(1, 2, 1)\n",
    "plt.plot(cluster_range, silhouette_scores, 'bo-')\n",
    "plt.xlabel('Number of clusters')\n",
    "plt.ylabel('Silhouette Score')\n",
    "plt.title('Optimal Cluster Count')\n",
    "\n",
    "plt.subplot(1, 2, 2)\n",
    "plt.plot(cluster_range, db_scores, 'go-')\n",
    "plt.xlabel('Number of clusters')\n",
    "plt.ylabel('Davies-Bouldin Score')\n",
    "plt.title('Lower is Better')\n",
    "plt.savefig('cluster_metrics.png', bbox_inches='tight')\n",
    "plt.close()\n",
    "\n",
    "# Select best cluster count (max silhouette)\n",
    "optimal_clusters = cluster_range[np.argmax(silhouette_scores)]\n",
    "print(f\"Optimal clusters: {optimal_clusters} (Silhouette: {max(silhouette_scores):.3f})\")"
   ]
  },
  {
   "cell_type": "markdown",
   "id": "625c283f",
   "metadata": {},
   "source": [
    "## Final Clustering "
   ]
  },
  {
   "cell_type": "code",
   "execution_count": null,
   "id": "e2673661",
   "metadata": {},
   "outputs": [],
   "source": [
    "# K-Means with optimal clusters\n",
    "final_kmeans = KMeans(n_clusters=optimal_clusters, random_state=42)\n",
    "cluster_labels = final_kmeans.fit_predict(embeddings)\n",
    "\n",
    "# Alternative: Gaussian Mixture Model\n",
    "# gmm = GaussianMixture(n_components=optimal_clusters, random_state=42)\n",
    "# cluster_labels = gmm.fit_predict(embeddings)"
   ]
  },
  {
   "cell_type": "markdown",
   "id": "8eaa629c",
   "metadata": {},
   "source": [
    "## Cluster Analysis"
   ]
  },
  {
   "cell_type": "code",
   "execution_count": null,
   "id": "0ad547cd",
   "metadata": {},
   "outputs": [],
   "source": [
    "# Load original data with features\n",
    "df = pd.read_csv('preprocessed_campaign_data.csv')\n",
    "df['Cluster'] = cluster_labels\n",
    "\n",
    "# Profile clusters\n",
    "cluster_profiles = df.groupby('Cluster').agg({\n",
    "    'Income': 'median',\n",
    "    'Total_Spend': 'median',\n",
    "    'Recency': 'median',\n",
    "    'Family_Size': 'median',\n",
    "    'MntWines': 'sum',\n",
    "    'NumWebVisitsMonth': 'mean'\n",
    "}).reset_index()\n",
    "\n",
    "# Visualize profiles\n",
    "plt.figure(figsize=(12, 8))\n",
    "sns.heatmap(cluster_profiles.set_index('Cluster'), \n",
    "            annot=True, cmap='Blues', fmt='.1f')\n",
    "plt.title('Customer Segment Profiles', pad=20)\n",
    "plt.savefig('cluster_profiles.png', bbox_inches='tight')\n",
    "plt.close()"
   ]
  },
  {
   "cell_type": "markdown",
   "id": "74b0b015",
   "metadata": {},
   "source": [
    "## Interactive Visualization"
   ]
  },
  {
   "cell_type": "code",
   "execution_count": null,
   "id": "719bd914",
   "metadata": {},
   "outputs": [],
   "source": [
    "# t-SNE for 2D visualization\n",
    "tsne = TSNE(n_components=2, random_state=42)\n",
    "embeddings_2d = tsne.fit_transform(embeddings)\n",
    "\n",
    "# Create interactive plot\n",
    "plot_df = pd.DataFrame({\n",
    "    'x': embeddings_2d[:, 0],\n",
    "    'y': embeddings_2d[:, 1],\n",
    "    'Cluster': cluster_labels,\n",
    "    'Income': df['Income'],\n",
    "    'Total_Spend': df['Total_Spend']\n",
    "})\n",
    "\n",
    "fig = px.scatter(plot_df, x='x', y='y', color='Cluster',\n",
    "                 hover_data=['Income', 'Total_Spend'],\n",
    "                 title='Customer Segments (t-SNE)')\n",
    "fig.write_html('interactive_clusters.html')"
   ]
  },
  {
   "cell_type": "markdown",
   "id": "57c4e948",
   "metadata": {},
   "source": [
    "## Save Results"
   ]
  },
  {
   "cell_type": "code",
   "execution_count": null,
   "id": "04975713",
   "metadata": {},
   "outputs": [],
   "source": [
    "# Save cluster labels\n",
    "df.to_csv('clustered_customers.csv', index=False)\n",
    "\n",
    "# Generate cluster descriptions\n",
    "cluster_descriptions = []\n",
    "for cluster in range(optimal_clusters):\n",
    "    subset = df[df['Cluster'] == cluster]\n",
    "    desc = f\"\"\"\n",
    "    Cluster {cluster} (n={len(subset)}):\n",
    "    - Median Income: ${subset['Income'].median():,.0f}\n",
    "    - Median Spend: ${subset['Total_Spend'].median():,.0f}\n",
    "    - Key Characteristics: {'High' if subset['MntWines'].median() > 300 else 'Low'} wine spenders,\n",
    "      {'Frequent' if subset['Recency'].median() < 30 else 'Infrequent'} purchasers\n",
    "    \"\"\"\n",
    "    cluster_descriptions.append(desc)\n",
    "\n",
    "with open('cluster_descriptions.txt', 'w') as f:\n",
    "    f.write(\"\\n\".join(cluster_descriptions))\n",
    "\n",
    "print(\"Clustering completed!\")\n",
    "print(f\"- Silhouette Score: {silhouette_score(embeddings, cluster_labels):.3f}\")\n",
    "print(\"- Visualizations saved: cluster_metrics.png, cluster_profiles.png\")\n",
    "print(\"- Interactive plot: interactive_clusters.html\")"
   ]
  }
 ],
 "metadata": {
  "kernelspec": {
   "display_name": "cs685hw",
   "language": "python",
   "name": "python3"
  },
  "language_info": {
   "name": "python",
   "version": "3.10.16"
  }
 },
 "nbformat": 4,
 "nbformat_minor": 5
}
