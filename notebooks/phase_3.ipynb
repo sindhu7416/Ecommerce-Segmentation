{
 "cells": [
  {
   "cell_type": "markdown",
   "id": "f469defe",
   "metadata": {},
   "source": [
    "## Determine Optimal Clusters "
   ]
  },
  {
   "cell_type": "code",
   "execution_count": null,
   "id": "f14c75e5",
   "metadata": {},
   "outputs": [],
   "source": [
    "# Evaluate cluster range (3-6)\n",
    "cluster_range = range(3, 7)\n",
    "silhouette_scores = []\n",
    "db_scores = []\n",
    "\n",
    "for n_clusters in cluster_range:\n",
    "    # K-Means clustering\n",
    "    kmeans = KMeans(n_clusters=n_clusters, random_state=42)\n",
    "    labels = kmeans.fit_predict(embeddings)\n",
    "    \n",
    "    # Metrics\n",
    "    silhouette_scores.append(silhouette_score(embeddings, labels))\n",
    "    db_scores.append(davies_bouldin_score(embeddings, labels))\n",
    "\n",
    "# Plot metrics\n",
    "plt.figure(figsize=(12, 5))\n",
    "plt.subplot(1, 2, 1)\n",
    "plt.plot(cluster_range, silhouette_scores, 'bo-')\n",
    "plt.xlabel('Number of clusters')\n",
    "plt.ylabel('Silhouette Score')\n",
    "plt.title('Optimal Cluster Count')\n",
    "\n",
    "plt.subplot(1, 2, 2)\n",
    "plt.plot(cluster_range, db_scores, 'go-')\n",
    "plt.xlabel('Number of clusters')\n",
    "plt.ylabel('Davies-Bouldin Score')\n",
    "plt.title('Lower is Better')\n",
    "plt.savefig('cluster_metrics.png', bbox_inches='tight')\n",
    "plt.close()\n",
    "\n",
    "# Select best cluster count (max silhouette)\n",
    "optimal_clusters = cluster_range[np.argmax(silhouette_scores)]\n",
    "print(f\"Optimal clusters: {optimal_clusters} (Silhouette: {max(silhouette_scores):.3f})\")"
   ]
  },
  {
   "cell_type": "markdown",
   "id": "d2579972",
   "metadata": {},
   "source": [
    "## Final Clustering "
   ]
  },
  {
   "cell_type": "markdown",
   "id": "e2673661",
   "metadata": {},
   "source": [
    "# K-Means with optimal clusters\n",
    "final_kmeans = KMeans(n_clusters=optimal_clusters, random_state=42)\n",
    "cluster_labels = final_kmeans.fit_predict(embeddings)\n",
    "\n",
    "# Alternative: Gaussian Mixture Model\n",
    "# gmm = GaussianMixture(n_components=optimal_clusters, random_state=42)\n",
    "# cluster_labels = gmm.fit_predict(embeddings)"
   ]
  }
 ],
 "metadata": {
  "kernelspec": {
   "display_name": "cs685hw",
   "language": "python",
   "name": "python3"
  },
  "language_info": {
   "name": "python",
   "version": "3.10.16"
  }
 },
 "nbformat": 4,
 "nbformat_minor": 5
}
