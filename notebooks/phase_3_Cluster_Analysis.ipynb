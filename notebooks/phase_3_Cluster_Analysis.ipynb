{
 "cells": [
  {
   "cell_type": "markdown",
   "id": "c1c9d278",
   "metadata": {},
   "source": [
    "## Cluster Analysis"
   ]
  },
  {
   "cell_type": "code",
   "execution_count": null,
   "id": "fc981a7c",
   "metadata": {
    "vscode": {
     "languageId": "plaintext"
    }
   },
   "outputs": [],
   "source": [
    "# Load original data with features\n",
    "df = pd.read_csv('preprocessed_campaign_data.csv')\n",
    "df['Cluster'] = cluster_labels\n",
    "\n",
    "# Profile clusters\n",
    "cluster_profiles = df.groupby('Cluster').agg({\n",
    "    'Income': 'median',\n",
    "    'Total_Spend': 'median',\n",
    "    'Recency': 'median',\n",
    "    'Family_Size': 'median',\n",
    "    'MntWines': 'sum',\n",
    "    'NumWebVisitsMonth': 'mean'\n",
    "}).reset_index()\n",
    "\n",
    "# Visualize profiles\n",
    "plt.figure(figsize=(12, 8))\n",
    "sns.heatmap(cluster_profiles.set_index('Cluster'), \n",
    "            annot=True, cmap='Blues', fmt='.1f')\n",
    "plt.title('Customer Segment Profiles', pad=20)\n",
    "plt.savefig('cluster_profiles.png', bbox_inches='tight')\n",
    "plt.close()"
   ]
  },
  {
   "cell_type": "markdown",
   "id": "f6c4f532",
   "metadata": {},
   "source": [
    "## Interactive Visualization"
   ]
  },
  {
   "cell_type": "code",
   "execution_count": null,
   "id": "3ba24b80",
   "metadata": {
    "vscode": {
     "languageId": "plaintext"
    }
   },
   "outputs": [],
   "source": [
    "# t-SNE for 2D visualization\n",
    "tsne = TSNE(n_components=2, random_state=42)\n",
    "embeddings_2d = tsne.fit_transform(embeddings)\n",
    "\n",
    "# Create interactive plot\n",
    "plot_df = pd.DataFrame({\n",
    "    'x': embeddings_2d[:, 0],\n",
    "    'y': embeddings_2d[:, 1],\n",
    "    'Cluster': cluster_labels,\n",
    "    'Income': df['Income'],\n",
    "    'Total_Spend': df['Total_Spend']\n",
    "})\n",
    "\n",
    "fig = px.scatter(plot_df, x='x', y='y', color='Cluster',\n",
    "                 hover_data=['Income', 'Total_Spend'],\n",
    "                 title='Customer Segments (t-SNE)')\n",
    "fig.write_html('interactive_clusters.html')"
   ]
  },
  {
   "cell_type": "markdown",
   "id": "81ded98c",
   "metadata": {},
   "source": [
    "## Save Results"
   ]
  },
  {
   "cell_type": "code",
   "execution_count": null,
   "id": "a62bcce7",
   "metadata": {
    "vscode": {
     "languageId": "plaintext"
    }
   },
   "outputs": [],
   "source": [
    "# Save cluster labels\n",
    "df.to_csv('clustered_customers.csv', index=False)\n",
    "\n",
    "# Generate cluster descriptions\n",
    "cluster_descriptions = []\n",
    "for cluster in range(optimal_clusters):\n",
    "    subset = df[df['Cluster'] == cluster]\n",
    "    desc = f\"\"\"\n",
    "    Cluster {cluster} (n={len(subset)}):\n",
    "    - Median Income: ${subset['Income'].median():,.0f}\n",
    "    - Median Spend: ${subset['Total_Spend'].median():,.0f}\n",
    "    - Key Characteristics: {'High' if subset['MntWines'].median() > 300 else 'Low'} wine spenders,\n",
    "      {'Frequent' if subset['Recency'].median() < 30 else 'Infrequent'} purchasers\n",
    "    \"\"\"\n",
    "    cluster_descriptions.append(desc)\n",
    "\n",
    "with open('cluster_descriptions.txt', 'w') as f:\n",
    "    f.write(\"\\n\".join(cluster_descriptions))\n",
    "\n",
    "print(\"Clustering completed!\")\n",
    "print(f\"- Silhouette Score: {silhouette_score(embeddings, cluster_labels):.3f}\")\n",
    "print(\"- Visualizations saved: cluster_metrics.png, cluster_profiles.png\")\n",
    "print(\"- Interactive plot: interactive_clusters.html\")"
   ]
  }
 ],
 "metadata": {
  "language_info": {
   "name": "python"
  }
 },
 "nbformat": 4,
 "nbformat_minor": 5
}
