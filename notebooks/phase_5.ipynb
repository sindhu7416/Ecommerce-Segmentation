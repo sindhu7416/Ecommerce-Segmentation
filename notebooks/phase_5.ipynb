{
 "cells": [
  {
   "cell_type": "markdown",
   "id": "71f2860f",
   "metadata": {},
   "source": [
    "# Phase 5: Report & Documentation"
   ]
  },
  {
   "cell_type": "code",
   "execution_count": null,
   "id": "a48ea7de",
   "metadata": {},
   "outputs": [],
   "source": [
    "import pandas as pd\n",
    "import numpy as np\n",
    "import matplotlib.pyplot as plt\n",
    "import seaborn as sns\n",
    "from matplotlib.ticker import FuncFormatter"
   ]
  },
  {
   "cell_type": "markdown",
   "id": "a089e79c",
   "metadata": {},
   "source": [
    "## Segment Profile Visualization "
   ]
  },
  {
   "cell_type": "code",
   "execution_count": null,
   "id": "e934abde",
   "metadata": {},
   "outputs": [],
   "source": [
    "# Load data from previous phases\n",
    "try:\n",
    "    df = pd.read_csv('customers_with_predictions.csv')  # From Phase 4\n",
    "    print(\"Loaded columns:\", df.columns.tolist())  # Debug: Show available columns\n",
    "    \n",
    "    # Check for required columns and create if missing\n",
    "    if 'Response' not in df.columns:\n",
    "        print(\"Warning: 'Response' column not found - using predicted probabilities\")\n",
    "        df['Response'] = (df['Response_Probability'] > 0.5).astype(int)\n",
    "        \n",
    "    if 'Cluster' not in df.columns:\n",
    "        raise ValueError(\"Cluster column missing - run Phase 3 first\")\n",
    "        \n",
    "except FileNotFoundError:\n",
    "    raise FileNotFoundError(\"Run Phase 4 first to generate customers_with_predictions.csv\")"
   ]
  },
  {
   "cell_type": "code",
   "execution_count": null,
   "id": "a12d1562",
   "metadata": {},
   "outputs": [],
   "source": [
    "import pandas as pd\n",
    "import matplotlib.pyplot as plt\n",
    "import seaborn as sns\n",
    "from matplotlib.ticker import FuncFormatter\n",
    "\n",
    "# Load data\n",
    "try:\n",
    "    df = pd.read_csv('customers_with_predictions.csv')  # From Phase 4\n",
    "    print(\"Loaded columns:\", df.columns.tolist())\n",
    "\n",
    "    # Create 'Response' if missing\n",
    "    if 'Response' not in df.columns:\n",
    "        print(\"Warning: 'Response' column not found - using predicted probabilities\")\n",
    "        df['Response'] = (df['Response_Probability'] > 0.5).astype(int)\n",
    "\n",
    "    if 'Cluster' not in df.columns:\n",
    "        raise ValueError(\"Cluster column missing - run Phase 3 first\")\n",
    "\n",
    "except FileNotFoundError:\n",
    "    raise FileNotFoundError(\"Run Phase 4 first to generate customers_with_predictions.csv\")\n",
    "\n",
    "# Assign segment labels\n",
    "df['Segment'] = df['Cluster'].apply(lambda x: f'Segment {x+1}')\n",
    "\n",
    "# Format currency for plots\n",
    "def currency_formatter(x, pos):\n",
    "    return f'${x:,.0f}'\n",
    "\n",
    "currency_format = FuncFormatter(currency_formatter)\n",
    "\n",
    "# Features to include in the profile plot\n",
    "profile_features = [\n",
    "    'Income', 'Total_Spend', 'Recency',\n",
    "    'Family_Size', 'MntWines', 'NumWebVisitsMonth'\n",
    "]\n",
    "\n",
    "# Create enhanced profile plot\n",
    "plt.figure(figsize=(14, 8))\n",
    "for i, feature in enumerate(profile_features, 1):\n",
    "    plt.subplot(2, 3, i)\n",
    "    sns.boxplot(\n",
    "        x='Segment',\n",
    "        y=feature,\n",
    "        data=df,\n",
    "        order=sorted(df['Segment'].unique()),\n",
    "        hue='Segment',  # Add this to avoid FutureWarning\n",
    "        legend=False\n",
    "    )\n",
    "    plt.title(feature.replace('_', ' '))\n",
    "    if feature in ['Income', 'Total_Spend', 'MntWines']:\n",
    "        plt.gca().yaxis.set_major_formatter(currency_format)\n",
    "    plt.xticks(rotation=45)\n",
    "\n",
    "plt.suptitle('Customer Segment Profiles', y=1.02, fontsize=16)\n",
    "plt.tight_layout()\n",
    "plt.savefig('enhanced_segment_profiles.png', dpi=300, bbox_inches='tight')\n",
    "plt.close()\n",
    "\n",
    "print(\"✅ Segment profile plot saved as 'enhanced_segment_profiles.png'\")\n"
   ]
  },
  {
   "cell_type": "markdown",
   "id": "dbbf789d",
   "metadata": {},
   "source": [
    "## Response Analysis "
   ]
  },
  {
   "cell_type": "code",
   "execution_count": null,
   "id": "5ba0f64e",
   "metadata": {},
   "outputs": [],
   "source": [
    "# Merge with segment stats\n",
    "response_analysis = df.groupby('Segment').agg({\n",
    "    'Response_Probability': ['mean', 'count'],\n",
    "    'Response': 'sum'\n",
    "}).reset_index()\n",
    "response_analysis.columns = ['Segment', 'Avg_Prob', 'Count', 'Actual_Responses']\n",
    "\n",
    "# Calculate conversion rate and uplift\n",
    "response_analysis['Conversion_Rate'] = response_analysis['Actual_Responses'] / response_analysis['Count']\n",
    "response_analysis['Uplift'] = response_analysis['Avg_Prob'] / response_analysis['Avg_Prob'].mean() - 1\n",
    "\n",
    "# Visualize\n",
    "plt.figure(figsize=(12, 6))\n",
    "sns.barplot(x='Segment', y='Uplift', data=response_analysis, \n",
    "            order=sorted(df['Segment'].unique()))\n",
    "plt.axhline(0, color='black', linestyle='--')\n",
    "plt.title('Campaign Response Uplift by Segment', fontsize=14)\n",
    "plt.ylabel('Uplift vs Average (%)')\n",
    "plt.gca().yaxis.set_major_formatter(FuncFormatter(lambda y, _: f'{y:.0%}'))\n",
    "plt.savefig('response_uplift.png', dpi=300, bbox_inches='tight')\n",
    "plt.close()"
   ]
  },
  {
   "cell_type": "markdown",
   "id": "3a170d9f",
   "metadata": {},
   "source": [
    "## Generate Recommendations"
   ]
  },
  {
   "cell_type": "code",
   "execution_count": null,
   "id": "b51d873f",
   "metadata": {},
   "outputs": [],
   "source": [
    "def generate_segment_recommendations(segment):\n",
    "    seg_data = df[df['Segment'] == segment].iloc[0]\n",
    "    recs = []\n",
    "    \n",
    "    # Spending behavior\n",
    "    if seg_data['Total_Spend'] > df['Total_Spend'].median():\n",
    "        recs.append(\"Premium customer: Target with exclusive offers\")\n",
    "    else:\n",
    "        recs.append(\"Value customer: Focus on price-sensitive promotions\")\n",
    "    \n",
    "    # Engagement\n",
    "    if seg_data['Recency'] < df['Recency'].median():\n",
    "        recs.append(\"Active buyer: Frequent communication\")\n",
    "    else:\n",
    "        recs.append(\"Lapsed customer: Win-back campaign needed\")\n",
    "    \n",
    "    # Product preferences\n",
    "    if seg_data['MntWines'] > df['MntWines'].median():\n",
    "        recs.append(\"Wine enthusiast: Cross-sell accessories\")\n",
    "    \n",
    "    # Response probability\n",
    "    prob = response_analysis[response_analysis['Segment'] == segment]['Avg_Prob'].values[0]\n",
    "    if prob > 0.5:\n",
    "        recs.append(f\"High response likelihood ({prob:.0%}): Prioritize in campaigns\")\n",
    "    else:\n",
    "        recs.append(f\"Low response likelihood ({prob:.0%}): Test alternative approaches\")\n",
    "    \n",
    "    return recs"
   ]
  },
  {
   "cell_type": "markdown",
   "id": "fc1c0af2",
   "metadata": {},
   "source": [
    "## Create Final Report "
   ]
  },
  {
   "cell_type": "code",
   "execution_count": null,
   "id": "febd176d",
   "metadata": {},
   "outputs": [],
   "source": [
    "report_content = []\n",
    "report_content.append(\"=== CUSTOMER SEGMENTATION INSIGHTS ===\")\n",
    "report_content.append(\"\\n1. SEGMENT PROFILES\\n\")\n",
    "\n",
    "# Add segment statistics\n",
    "for segment in sorted(df['Segment'].unique()):\n",
    "    seg_data = df[df['Segment'] == segment].iloc[0]\n",
    "    report_content.append(\n",
    "        f\"{segment} (n={len(df[df['Segment'] == segment])}):\\n\"\n",
    "        f\"- Median Income: ${seg_data['Income']:,.0f}\\n\"\n",
    "        f\"- Median Spend: ${seg_data['Total_Spend']:,.0f}\\n\"\n",
    "        f\"- {'Frequent' if seg_data['Recency'] < df['Recency'].median() else 'Infrequent'} buyers\\n\"\n",
    "        f\"- {'Wine lovers' if seg_data['MntWines'] > df['MntWines'].median() else 'Casual drinkers'}\\n\"\n",
    "    )\n",
    "\n",
    "# Add recommendations\n",
    "report_content.append(\"\\n2. ACTIONABLE RECOMMENDATIONS\\n\")\n",
    "for segment in sorted(df['Segment'].unique()):\n",
    "    report_content.append(f\"{segment}:\")\n",
    "    for i, rec in enumerate(generate_segment_recommendations(segment), 1):\n",
    "        report_content.append(f\"  {i}. {rec}\")\n",
    "    report_content.append(\"\")\n",
    "\n",
    "# Add response analysis\n",
    "report_content.append(\"\\n3. CAMPAIGN OPTIMIZATION\\n\")\n",
    "report_content.append(\"Segment Response Potential:\")\n",
    "report_content.append(response_analysis.to_string(index=False))\n",
    "\n",
    "# Save reportreport_content = []\n",
    "report_content.append(\"=== CUSTOMER SEGMENTATION INSIGHTS ===\")\n",
    "report_content.append(\"\\n1. SEGMENT PROFILES\\n\")\n",
    "\n",
    "# Add segment statistics\n",
    "for segment in sorted(df['Segment'].unique()):\n",
    "    seg_data = df[df['Segment'] == segment].iloc[0]\n",
    "    report_content.append(\n",
    "        f\"{segment} (n={len(df[df['Segment'] == segment])}):\\n\"\n",
    "        f\"- Median Income: ${seg_data['Income']:,.0f}\\n\"\n",
    "        f\"- Median Spend: ${seg_data['Total_Spend']:,.0f}\\n\"\n",
    "        f\"- {'Frequent' if seg_data['Recency'] < df['Recency'].median() else 'Infrequent'} buyers\\n\"\n",
    "        f\"- {'Wine lovers' if seg_data['MntWines'] > df['MntWines'].median() else 'Casual drinkers'}\\n\"\n",
    "    )\n",
    "with open('executive_report.txt', 'w') as f:\n",
    "    f.write(\"\\n\".join(report_content))"
   ]
  },
  {
   "cell_type": "markdown",
   "id": "88b54bb4",
   "metadata": {},
   "source": [
    "## Save Final Outputs "
   ]
  },
  {
   "cell_type": "code",
   "execution_count": null,
   "id": "1bcfeac6",
   "metadata": {},
   "outputs": [],
   "source": [
    "# Save enriched data\n",
    "df.to_csv('final_customer_data.csv', index=False)\n",
    "\n",
    "print(\"Phase 5 completed successfully!\")\n",
    "print(\"Key outputs generated:\")\n",
    "print(\"- enhanced_segment_profiles.png: Detailed segment characteristics\")\n",
    "print(\"- response_uplift.png: Campaign performance by segment\")\n",
    "print(\"- executive_report.txt: Business-ready recommendations\")\n",
    "print(\"- final_customer_data.csv: Complete analysis dataset\")"
   ]
  }
 ],
 "metadata": {
  "language_info": {
   "name": "python"
  }
 },
 "nbformat": 4,
 "nbformat_minor": 5
}
