{
 "cells": [
  {
   "cell_type": "markdown",
   "id": "71f2860f",
   "metadata": {},
   "source": [
    "# Phase 5: Report & Documentation"
   ]
  },
  {
   "cell_type": "code",
   "execution_count": null,
   "id": "a48ea7de",
   "metadata": {},
   "outputs": [],
   "source": [
    "import pandas as pd\n",
    "import numpy as np\n",
    "import matplotlib.pyplot as plt\n",
    "import seaborn as sns\n",
    "from matplotlib.ticker import FuncFormatter"
   ]
  },
  {
   "cell_type": "markdown",
   "id": "a089e79c",
   "metadata": {},
   "source": [
    "## Segment Profile Visualization "
   ]
  },
  {
   "cell_type": "markdown",
   "id": "dbbf789d",
   "metadata": {},
   "source": [
    "## Response Analysis "
   ]
  },
  {
   "cell_type": "markdown",
   "id": "3a170d9f",
   "metadata": {},
   "source": [
    "## Generate Recommendations"
   ]
  },
  {
   "cell_type": "code",
   "execution_count": null,
   "id": "b51d873f",
   "metadata": {},
   "outputs": [],
   "source": [
    "def generate_segment_recommendations(segment):\n",
    "    seg_data = df[df['Segment'] == segment].iloc[0]\n",
    "    recs = []\n",
    "    \n",
    "    # Spending behavior\n",
    "    if seg_data['Total_Spend'] > df['Total_Spend'].median():\n",
    "        recs.append(\"Premium customer: Target with exclusive offers\")\n",
    "    else:\n",
    "        recs.append(\"Value customer: Focus on price-sensitive promotions\")\n",
    "    \n",
    "    # Engagement\n",
    "    if seg_data['Recency'] < df['Recency'].median():\n",
    "        recs.append(\"Active buyer: Frequent communication\")\n",
    "    else:\n",
    "        recs.append(\"Lapsed customer: Win-back campaign needed\")\n",
    "    \n",
    "    # Product preferences\n",
    "    if seg_data['MntWines'] > df['MntWines'].median():\n",
    "        recs.append(\"Wine enthusiast: Cross-sell accessories\")\n",
    "    \n",
    "    # Response probability\n",
    "    prob = response_analysis[response_analysis['Segment'] == segment]['Avg_Prob'].values[0]\n",
    "    if prob > 0.5:\n",
    "        recs.append(f\"High response likelihood ({prob:.0%}): Prioritize in campaigns\")\n",
    "    else:\n",
    "        recs.append(f\"Low response likelihood ({prob:.0%}): Test alternative approaches\")\n",
    "    \n",
    "    return recs"
   ]
  },
  {
   "cell_type": "markdown",
   "id": "fc1c0af2",
   "metadata": {},
   "source": [
    "## Create Final Report "
   ]
  },
  {
   "cell_type": "markdown",
   "id": "88b54bb4",
   "metadata": {},
   "source": [
    "## Save Final Outputs "
   ]
  }
 ],
 "metadata": {
  "language_info": {
   "name": "python"
  }
 },
 "nbformat": 4,
 "nbformat_minor": 5
}
