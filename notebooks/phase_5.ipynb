{
 "cells": [
  {
   "cell_type": "markdown",
   "id": "71f2860f",
   "metadata": {},
   "source": [
    "# Phase 5: Report & Documentation"
   ]
  },
  {
   "cell_type": "code",
   "execution_count": null,
   "id": "a48ea7de",
   "metadata": {},
   "outputs": [],
   "source": [
    "import pandas as pd\n",
    "import numpy as np\n",
    "import matplotlib.pyplot as plt\n",
    "import seaborn as sns\n",
    "from matplotlib.ticker import FuncFormatter"
   ]
  },
  {
   "cell_type": "markdown",
   "id": "a089e79c",
   "metadata": {},
   "source": [
    "## Segment Profile Visualization "
   ]
  },
  {
   "cell_type": "markdown",
   "id": "dbbf789d",
   "metadata": {},
   "source": [
    "## Response Analysis "
   ]
  },
  {
   "cell_type": "markdown",
   "id": "3a170d9f",
   "metadata": {},
   "source": [
    "## Generate Recommendations"
   ]
  },
  {
   "cell_type": "code",
   "execution_count": null,
   "id": "b51d873f",
   "metadata": {},
   "outputs": [],
   "source": [
    "def generate_segment_recommendations(segment):\n",
    "    seg_data = df[df['Segment'] == segment].iloc[0]\n",
    "    recs = []\n",
    "    \n",
    "    # Spending behavior\n",
    "    if seg_data['Total_Spend'] > df['Total_Spend'].median():\n",
    "        recs.append(\"Premium customer: Target with exclusive offers\")\n",
    "    else:\n",
    "        recs.append(\"Value customer: Focus on price-sensitive promotions\")\n",
    "    \n",
    "    # Engagement\n",
    "    if seg_data['Recency'] < df['Recency'].median():\n",
    "        recs.append(\"Active buyer: Frequent communication\")\n",
    "    else:\n",
    "        recs.append(\"Lapsed customer: Win-back campaign needed\")\n",
    "    \n",
    "    # Product preferences\n",
    "    if seg_data['MntWines'] > df['MntWines'].median():\n",
    "        recs.append(\"Wine enthusiast: Cross-sell accessories\")\n",
    "    \n",
    "    # Response probability\n",
    "    prob = response_analysis[response_analysis['Segment'] == segment]['Avg_Prob'].values[0]\n",
    "    if prob > 0.5:\n",
    "        recs.append(f\"High response likelihood ({prob:.0%}): Prioritize in campaigns\")\n",
    "    else:\n",
    "        recs.append(f\"Low response likelihood ({prob:.0%}): Test alternative approaches\")\n",
    "    \n",
    "    return recs"
   ]
  },
  {
   "cell_type": "markdown",
   "id": "fc1c0af2",
   "metadata": {},
   "source": [
    "## Create Final Report "
   ]
  },
  {
   "cell_type": "code",
   "execution_count": null,
   "id": "febd176d",
   "metadata": {},
   "outputs": [],
   "source": [
    "report_content = []\n",
    "report_content.append(\"=== CUSTOMER SEGMENTATION INSIGHTS ===\")\n",
    "report_content.append(\"\\n1. SEGMENT PROFILES\\n\")\n",
    "\n",
    "# Add segment statistics\n",
    "for segment in sorted(df['Segment'].unique()):\n",
    "    seg_data = df[df['Segment'] == segment].iloc[0]\n",
    "    report_content.append(\n",
    "        f\"{segment} (n={len(df[df['Segment'] == segment])}):\\n\"\n",
    "        f\"- Median Income: ${seg_data['Income']:,.0f}\\n\"\n",
    "        f\"- Median Spend: ${seg_data['Total_Spend']:,.0f}\\n\"\n",
    "        f\"- {'Frequent' if seg_data['Recency'] < df['Recency'].median() else 'Infrequent'} buyers\\n\"\n",
    "        f\"- {'Wine lovers' if seg_data['MntWines'] > df['MntWines'].median() else 'Casual drinkers'}\\n\"\n",
    "    )\n",
    "\n",
    "# Add recommendations\n",
    "report_content.append(\"\\n2. ACTIONABLE RECOMMENDATIONS\\n\")\n",
    "for segment in sorted(df['Segment'].unique()):\n",
    "    report_content.append(f\"{segment}:\")\n",
    "    for i, rec in enumerate(generate_segment_recommendations(segment), 1):\n",
    "        report_content.append(f\"  {i}. {rec}\")\n",
    "    report_content.append(\"\")\n",
    "\n",
    "# Add response analysis\n",
    "report_content.append(\"\\n3. CAMPAIGN OPTIMIZATION\\n\")\n",
    "report_content.append(\"Segment Response Potential:\")\n",
    "report_content.append(response_analysis.to_string(index=False))\n",
    "\n",
    "# Save reportreport_content = []\n",
    "report_content.append(\"=== CUSTOMER SEGMENTATION INSIGHTS ===\")\n",
    "report_content.append(\"\\n1. SEGMENT PROFILES\\n\")\n",
    "\n",
    "# Add segment statistics\n",
    "for segment in sorted(df['Segment'].unique()):\n",
    "    seg_data = df[df['Segment'] == segment].iloc[0]\n",
    "    report_content.append(\n",
    "        f\"{segment} (n={len(df[df['Segment'] == segment])}):\\n\"\n",
    "        f\"- Median Income: ${seg_data['Income']:,.0f}\\n\"\n",
    "        f\"- Median Spend: ${seg_data['Total_Spend']:,.0f}\\n\"\n",
    "        f\"- {'Frequent' if seg_data['Recency'] < df['Recency'].median() else 'Infrequent'} buyers\\n\"\n",
    "        f\"- {'Wine lovers' if seg_data['MntWines'] > df['MntWines'].median() else 'Casual drinkers'}\\n\"\n",
    "    )\n",
    "with open('executive_report.txt', 'w') as f:\n",
    "    f.write(\"\\n\".join(report_content))"
   ]
  },
  {
   "cell_type": "markdown",
   "id": "88b54bb4",
   "metadata": {},
   "source": [
    "## Save Final Outputs "
   ]
  },
  {
   "cell_type": "code",
   "execution_count": null,
   "id": "1bcfeac6",
   "metadata": {},
   "outputs": [],
   "source": [
    "# Save enriched data\n",
    "df.to_csv('final_customer_data.csv', index=False)\n",
    "\n",
    "print(\"Phase 5 completed successfully!\")\n",
    "print(\"Key outputs generated:\")\n",
    "print(\"- enhanced_segment_profiles.png: Detailed segment characteristics\")\n",
    "print(\"- response_uplift.png: Campaign performance by segment\")\n",
    "print(\"- executive_report.txt: Business-ready recommendations\")\n",
    "print(\"- final_customer_data.csv: Complete analysis dataset\")"
   ]
  }
 ],
 "metadata": {
  "language_info": {
   "name": "python"
  }
 },
 "nbformat": 4,
 "nbformat_minor": 5
}
