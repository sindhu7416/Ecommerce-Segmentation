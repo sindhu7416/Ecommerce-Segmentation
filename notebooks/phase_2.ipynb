{
 "cells": [
  {
   "cell_type": "markdown",
   "id": "c9e86b2a",
   "metadata": {},
   "source": [
    "# Phase 2: Dimensionality Reduction & Embedding"
   ]
  },
  {
   "cell_type": "code",
   "execution_count": null,
   "id": "65fa63d9",
   "metadata": {},
   "outputs": [],
   "source": [
    "import pandas as pd\n",
    "import numpy as np\n",
    "import matplotlib.pyplot as plt\n",
    "import seaborn as sns\n",
    "from tensorflow.keras.models import Model, Sequential\n",
    "from tensorflow.keras.layers import Input, Dense, Dropout\n",
    "from tensorflow.keras.optimizers import Adam\n",
    "from tensorflow.keras.callbacks import EarlyStopping\n",
    "from sklearn.model_selection import train_test_split\n",
    "from sklearn.preprocessing import StandardScaler\n",
    "from sklearn.manifold import TSNE\n",
    "import umap"
   ]
  },
  {
   "cell_type": "code",
   "execution_count": null,
   "id": "b8394fd6",
   "metadata": {},
   "outputs": [],
   "source": [
    "# Load preprocessed data (from Phase 1)\n",
    "df = pd.read_csv('preprocessed_campaign_data.csv')\n",
    "df.head()"
   ]
  },
  {
   "cell_type": "markdown",
   "id": "503cd2ed",
   "metadata": {},
   "source": [
    "## Prepare Input Data (for autoencoder)"
   ]
  },
  {
   "cell_type": "code",
   "execution_count": null,
   "id": "d12ba154",
   "metadata": {},
   "outputs": [],
   "source": [
    "# Select features for autoencoder (numeric + encoded categorical)\n",
    "features = [\n",
    "    'Income', 'Customer_Tenure', 'Total_Spend', 'Family_Size', 'Recency',\n",
    "    'Education_encoded', 'Marital_Divorced', 'Marital_Married', 'Marital_Single',\n",
    "    'Marital_Together', 'Marital_Widow'\n",
    "]\n",
    "X = df[features].values\n",
    "\n",
    "# Train-test split (for validation)\n",
    "X_train, X_test = train_test_split(X, test_size=0.2, random_state=42)\n",
    "\n",
    "# Standardize (reapply scaling to ensure consistency)\n",
    "scaler = StandardScaler()\n",
    "X_train = scaler.fit_transform(X_train)\n",
    "X_test = scaler.transform(X_test)"
   ]
  },
  {
   "cell_type": "markdown",
   "id": "f3b686cc",
   "metadata": {},
   "source": [
    "## Build Autoencoder"
   ]
  },
  {
   "cell_type": "code",
   "execution_count": null,
   "id": "80f1bee0",
   "metadata": {},
   "outputs": [],
   "source": [
    "input_dim = X_train.shape[1]\n",
    "encoding_dim = 10  # Latent space dimension (adjustable)\n",
    "\n",
    "# Encoder\n",
    "input_layer = Input(shape=(input_dim,))\n",
    "encoder = Dense(64, activation='relu')(input_layer)\n",
    "encoder = Dropout(0.2)(encoder)\n",
    "encoder = Dense(32, activation='relu')(encoder)\n",
    "latent_layer = Dense(encoding_dim, activation='relu')(encoder)\n",
    "\n",
    "# Decoder\n",
    "decoder = Dense(32, activation='relu')(latent_layer)\n",
    "decoder = Dropout(0.2)(decoder)\n",
    "decoder = Dense(64, activation='relu')(decoder)\n",
    "output_layer = Dense(input_dim, activation='linear')(decoder)\n",
    "\n",
    "# Compile\n",
    "autoencoder = Model(inputs=input_layer, outputs=output_layer)\n",
    "autoencoder.compile(optimizer=Adam(learning_rate=0.001), loss='mse')\n",
    "\n",
    "# Early stopping to prevent overfitting\n",
    "early_stopping = EarlyStopping(monitor='val_loss', patience=10, restore_best_weights=True)"
   ]
  },
  {
   "cell_type": "code",
   "execution_count": null,
   "id": "d6f7aef8",
   "metadata": {},
   "outputs": [],
   "source": [
    "# Train\n",
    "history = autoencoder.fit(\n",
    "    X_train, X_train,\n",
    "    epochs=100,\n",
    "    batch_size=32,\n",
    "    validation_data=(X_test, X_test),\n",
    "    callbacks=[early_stopping],\n",
    "    verbose=1\n",
    ")\n"
   ]
  },
  {
   "cell_type": "markdown",
   "id": "56863513",
   "metadata": {},
   "source": [
    "##  Extract Latent Embeddings"
   ]
  },
  {
   "cell_type": "code",
   "execution_count": null,
   "id": "9d0ca88f",
   "metadata": {},
   "outputs": [],
   "source": [
    "encoder_model = Model(inputs=input_layer, outputs=latent_layer)\n",
    "train_embeddings = encoder_model.predict(X_train)\n",
    "test_embeddings = encoder_model.predict(X_test)\n",
    "\n",
    "# Combine all embeddings\n",
    "embeddings = np.vstack([train_embeddings, test_embeddings])\n",
    "\n",
    "# Save embeddings for clustering\n",
    "np.save('customer_embeddings.npy', embeddings)"
   ]
  },
  {
   "cell_type": "markdown",
   "id": "0f1844a4",
   "metadata": {},
   "source": [
    "## Visualize Embeddings"
   ]
  },
  {
   "cell_type": "code",
   "execution_count": null,
   "id": "ec1c2cb3",
   "metadata": {},
   "outputs": [],
   "source": [
    "# t-SNE (for 2D visualization)\n",
    "tsne = TSNE(n_components=2, random_state=42)\n",
    "embeddings_2d = tsne.fit_transform(embeddings)\n",
    "\n",
    "plt.figure(figsize=(10, 6))\n",
    "sns.scatterplot(x=embeddings_2d[:, 0], y=embeddings_2d[:, 1], alpha=0.6)\n",
    "plt.title('t-SNE Visualization of Customer Embeddings')\n",
    "plt.savefig('tsne_embeddings.png')  # For report\n",
    "plt.show()\n",
    "\n",
    "# UMAP (alternative to t-SNE)\n",
    "umap_embeddings = umap.UMAP(random_state=42).fit_transform(embeddings)\n",
    "plt.figure(figsize=(10, 6))\n",
    "sns.scatterplot(x=umap_embeddings[:, 0], y=umap_embeddings[:, 1], alpha=0.6)\n",
    "plt.title('UMAP Visualization of Customer Embeddings')\n",
    "plt.savefig('umap_embeddings.png')\n",
    "plt.show()"
   ]
  },
  {
   "cell_type": "markdown",
   "id": "76070ebc",
   "metadata": {},
   "source": [
    "## Documentation"
   ]
  },
  {
   "cell_type": "code",
   "execution_count": null,
   "id": "93c41b87",
   "metadata": {},
   "outputs": [],
   "source": [
    "print(\"Autoencoder Training Summary:\")\n",
    "print(f\"- Final Training Loss: {history.history['loss'][-1]:.4f}\")\n",
    "print(f\"- Final Validation Loss: {history.history['val_loss'][-1]:.4f}\")\n",
    "print(f\"- Embeddings saved to 'customer_embeddings.npy' (shape: {embeddings.shape})\")"
   ]
  }
 ],
 "metadata": {
  "kernelspec": {
   "display_name": "cs685hw",
   "language": "python",
   "name": "python3"
  },
  "language_info": {
   "name": "python",
   "version": "3.10.16"
  }
 },
 "nbformat": 4,
 "nbformat_minor": 5
}
