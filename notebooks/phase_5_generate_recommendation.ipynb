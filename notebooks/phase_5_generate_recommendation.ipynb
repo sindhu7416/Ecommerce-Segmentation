{
 "cells": [
  {
   "cell_type": "markdown",
   "id": "71f2860f",
   "metadata": {},
   "source": [
    "# Phase 5: Report & Documentation"
   ]
  },
  {
   "cell_type": "markdown",
   "id": "405f75db",
   "metadata": {},
   "source": []
  },
  {
   "cell_type": "markdown",
   "id": "3a170d9f",
   "metadata": {},
   "source": [
    "## Generate Recommendations"
   ]
  },
  {
   "cell_type": "code",
   "execution_count": null,
   "id": "b51d873f",
   "metadata": {
    "vscode": {
     "languageId": "plaintext"
    }
   },
   "outputs": [],
   "source": [
    "def generate_segment_recommendations(segment):\n",
    "    seg_data = df[df['Segment'] == segment].iloc[0]\n",
    "    recs = []\n",
    "    \n",
    "    # Spending behavior\n",
    "    if seg_data['Total_Spend'] > df['Total_Spend'].median():\n",
    "        recs.append(\"Premium customer: Target with exclusive offers\")\n",
    "    else:\n",
    "        recs.append(\"Value customer: Focus on price-sensitive promotions\")\n",
    "    \n",
    "    # Engagement\n",
    "    if seg_data['Recency'] < df['Recency'].median():\n",
    "        recs.append(\"Active buyer: Frequent communication\")\n",
    "    else:\n",
    "        recs.append(\"Lapsed customer: Win-back campaign needed\")\n",
    "    \n",
    "    # Product preferences\n",
    "    if seg_data['MntWines'] > df['MntWines'].median():\n",
    "        recs.append(\"Wine enthusiast: Cross-sell accessories\")\n",
    "    \n",
    "    # Response probability\n",
    "    prob = response_analysis[response_analysis['Segment'] == segment]['Avg_Prob'].values[0]\n",
    "    if prob > 0.5:\n",
    "        recs.append(f\"High response likelihood ({prob:.0%}): Prioritize in campaigns\")\n",
    "    else:\n",
    "        recs.append(f\"Low response likelihood ({prob:.0%}): Test alternative approaches\")\n",
    "    \n",
    "    return recs"
   ]
  },
  {
   "cell_type": "markdown",
   "id": "5331a950",
   "metadata": {},
   "source": []
  }
 ],
 "metadata": {
  "language_info": {
   "name": "python"
  }
 },
 "nbformat": 4,
 "nbformat_minor": 5
}
