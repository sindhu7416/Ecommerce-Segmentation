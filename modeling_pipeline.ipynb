{
 "cells": [
  {
   "cell_type": "markdown",
   "id": "2414e0ab",
   "metadata": {},
   "source": [
    "# 🧠 Predictive Modeling for Marketing Campaign Response"
   ]
  },
  {
   "cell_type": "markdown",
   "id": "235f4931",
   "metadata": {},
   "source": [
    "## 1. 📦 Import Libraries"
   ]
  },
  {
   "cell_type": "code",
   "execution_count": null,
   "id": "e7f9dd04",
   "metadata": {},
   "outputs": [],
   "source": [
    "import pandas as pd\n",
    "from sklearn.preprocessing import StandardScaler, OneHotEncoder\n",
    "from sklearn.model_selection import train_test_split\n",
    "from sklearn.compose import ColumnTransformer\n",
    "from sklearn.pipeline import Pipeline\n",
    "from sklearn.impute import SimpleImputer\n",
    "from sklearn.ensemble import RandomForestClassifier\n",
    "from sklearn.linear_model import LogisticRegression\n",
    "from sklearn.metrics import classification_report\n"
   ]
  },
  {
   "cell_type": "markdown",
   "id": "b1196629",
   "metadata": {},
   "source": [
    "## 2. 📂 Load and Clean the Data"
   ]
  },
  {
   "cell_type": "code",
   "execution_count": null,
   "id": "eac129b9",
   "metadata": {},
   "outputs": [],
   "source": [
    "# Load dataset\n",
    "df = pd.read_csv('../data/raw/marketing_campaign.csv', sep='\\t')\n",
    "\n",
    "# Clean column names\n",
    "df.columns = df.columns.str.strip()\n",
    "\n",
    "# Preview\n",
    "df.head()\n"
   ]
  },
  {
   "cell_type": "markdown",
   "id": "9b96540f",
   "metadata": {},
   "source": [
    "## 3. 🎯 Define Features and Target Variable"
   ]
  },
  {
   "cell_type": "code",
   "execution_count": null,
   "id": "1df5cb55",
   "metadata": {},
   "outputs": [],
   "source": [
    "# Separate features and target\n",
    "features = df.drop(columns=['Response'])\n",
    "target = df['Response']\n",
    "\n",
    "# Identify column types\n",
    "numeric_features = features.select_dtypes(include=['int64', 'float64']).columns\n",
    "categorical_features = features.select_dtypes(include=['object']).columns\n"
   ]
  },
  {
   "cell_type": "markdown",
   "id": "10514ae0",
   "metadata": {},
   "source": [
    "## 4. 🛠️ Preprocessing Pipelines"
   ]
  },
  {
   "cell_type": "code",
   "execution_count": null,
   "id": "d3f32ac4",
   "metadata": {},
   "outputs": [],
   "source": [
    "# Numeric transformer\n",
    "numeric_transformer = Pipeline([\n",
    "    ('imputer', SimpleImputer(strategy='mean')),\n",
    "    ('scaler', StandardScaler())\n",
    "])\n",
    "\n",
    "# Categorical transformer\n",
    "categorical_transformer = Pipeline([\n",
    "    ('imputer', SimpleImputer(strategy='most_frequent')),\n",
    "    ('onehot', OneHotEncoder(handle_unknown='ignore'))\n",
    "])\n",
    "\n",
    "# Combine into ColumnTransformer\n",
    "preprocessor = ColumnTransformer([\n",
    "    ('num', numeric_transformer, numeric_features),\n",
    "    ('cat', categorical_transformer, categorical_features)\n",
    "])\n"
   ]
  },
  {
   "cell_type": "markdown",
   "id": "736c8594",
   "metadata": {},
   "source": [
    "## 5. ✂️ Split the Dataset"
   ]
  },
  {
   "cell_type": "code",
   "execution_count": null,
   "id": "dfb58aa0",
   "metadata": {},
   "outputs": [],
   "source": [
    "X_train, X_test, y_train, y_test = train_test_split(features, target, test_size=0.3, random_state=42)\n"
   ]
  },
  {
   "cell_type": "markdown",
   "id": "afd226ab",
   "metadata": {},
   "source": [
    "## 6. 🤖 Train Models"
   ]
  },
  {
   "cell_type": "code",
   "execution_count": null,
   "id": "78d87fb2",
   "metadata": {},
   "outputs": [],
   "source": [
    "logreg_pipeline = Pipeline([\n",
    "    ('preprocessor', preprocessor),\n",
    "    ('classifier', LogisticRegression(max_iter=1000))\n",
    "])\n",
    "logreg_pipeline.fit(X_train, y_train)\n"
   ]
  },
  {
   "cell_type": "code",
   "execution_count": null,
   "id": "8c4af1ba",
   "metadata": {},
   "outputs": [],
   "source": [
    "rf_pipeline = Pipeline([\n",
    "    ('preprocessor', preprocessor),\n",
    "    ('classifier', RandomForestClassifier(random_state=42))\n",
    "])\n",
    "rf_pipeline.fit(X_train, y_train)\n"
   ]
  },
  {
   "cell_type": "markdown",
   "id": "278f5a52",
   "metadata": {},
   "source": [
    "## 7. 📊 Evaluate Model Performance"
   ]
  },
  {
   "cell_type": "code",
   "execution_count": null,
   "id": "3e376b77",
   "metadata": {},
   "outputs": [],
   "source": [
    "logreg_predictions = logreg_pipeline.predict(X_test)\n",
    "print(\"Logistic Regression Performance:\\n\")\n",
    "print(classification_report(y_test, logreg_predictions))\n"
   ]
  },
  {
   "cell_type": "code",
   "execution_count": null,
   "id": "f86cd4f6",
   "metadata": {},
   "outputs": [],
   "source": [
    "rf_predictions = rf_pipeline.predict(X_test)\n",
    "print(\"Random Forest Performance:\\n\")\n",
    "print(classification_report(y_test, rf_predictions))\n"
   ]
  },
  {
   "cell_type": "markdown",
   "id": "a379fc58",
   "metadata": {},
   "source": [
    "## 8. 🔍 Compare Accuracy Scores"
   ]
  },
  {
   "cell_type": "code",
   "execution_count": null,
   "id": "67943f6d",
   "metadata": {},
   "outputs": [],
   "source": [
    "logreg_score = logreg_pipeline.score(X_test, y_test)\n",
    "rf_score = rf_pipeline.score(X_test, y_test)\n",
    "\n",
    "print(f'Logistic Regression Accuracy: {logreg_score:.2f}')\n",
    "print(f'Random Forest Accuracy: {rf_score:.2f}')\n"
   ]
  }
 ],
 "metadata": {},
 "nbformat": 4,
 "nbformat_minor": 5
}
